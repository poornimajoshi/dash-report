{
 "cells": [
  {
   "cell_type": "code",
   "execution_count": 3,
   "metadata": {},
   "outputs": [],
   "source": [
    "import pandas as pd\n",
    "import numpy as np"
   ]
  },
  {
   "cell_type": "code",
   "execution_count": 4,
   "metadata": {},
   "outputs": [],
   "source": [
    "df = pd.read_excel('units.xlsx')\n"
   ]
  },
  {
   "cell_type": "code",
   "execution_count": 5,
   "metadata": {},
   "outputs": [],
   "source": [
    "df.loc[df.Day == '-', 'Day'] = 7\n",
    "\n",
    "\n",
    "df.MonthNumber = np.nan\n",
    "df.loc[df.Month == 'Jan', 'MonthNumber'] = 1\n",
    "df.loc[df.Month == 'Feb', 'MonthNumber'] = 2\n",
    "df.loc[df.Month == 'Mar', 'MonthNumber'] = 3\n",
    "df.loc[df.Month == 'Apr', 'MonthNumber'] = 4\n",
    "df.loc[df.Month == 'May', 'MonthNumber'] = 5\n",
    "df.loc[df.Month == 'Jun', 'MonthNumber'] = 6\n",
    "df.loc[df.Month == 'Jul', 'MonthNumber'] = 7\n",
    "\n",
    "df  = df.dropna()\n",
    "raw_data = df"
   ]
  },
  {
   "cell_type": "code",
   "execution_count": null,
   "metadata": {},
   "outputs": [],
   "source": []
  },
  {
   "cell_type": "markdown",
   "metadata": {},
   "source": [
    "### Q1 : Number of units lost"
   ]
  },
  {
   "cell_type": "code",
   "execution_count": 6,
   "metadata": {},
   "outputs": [
    {
     "data": {
      "text/html": [
       "<div>\n",
       "<style scoped>\n",
       "    .dataframe tbody tr th:only-of-type {\n",
       "        vertical-align: middle;\n",
       "    }\n",
       "\n",
       "    .dataframe tbody tr th {\n",
       "        vertical-align: top;\n",
       "    }\n",
       "\n",
       "    .dataframe thead th {\n",
       "        text-align: right;\n",
       "    }\n",
       "</style>\n",
       "<table border=\"1\" class=\"dataframe\">\n",
       "  <thead>\n",
       "    <tr style=\"text-align: right;\">\n",
       "      <th></th>\n",
       "      <th>Factory</th>\n",
       "      <th>Month</th>\n",
       "      <th>Week</th>\n",
       "      <th>Day</th>\n",
       "      <th>UnitImpacted</th>\n",
       "      <th>LossCategory</th>\n",
       "      <th>MainRootCause</th>\n",
       "      <th>DetailsOfTheRootCause</th>\n",
       "      <th>Units</th>\n",
       "      <th>SupplierName</th>\n",
       "      <th>ParmaCode</th>\n",
       "      <th>PartReference</th>\n",
       "      <th>Total Loss Cost</th>\n",
       "      <th>MonthNumber</th>\n",
       "    </tr>\n",
       "  </thead>\n",
       "  <tbody>\n",
       "    <tr>\n",
       "      <th>2</th>\n",
       "      <td>VNX</td>\n",
       "      <td>Jan</td>\n",
       "      <td>2.0</td>\n",
       "      <td>1</td>\n",
       "      <td>HDE 11</td>\n",
       "      <td>Blocked_units</td>\n",
       "      <td>Demand change</td>\n",
       "      <td>customer fluctuation</td>\n",
       "      <td>7.0</td>\n",
       "      <td>Cummins Turbo Technologies ( Global )</td>\n",
       "      <td>5385</td>\n",
       "      <td>17467114</td>\n",
       "      <td>7000.0</td>\n",
       "      <td>1.0</td>\n",
       "    </tr>\n",
       "    <tr>\n",
       "      <th>3</th>\n",
       "      <td>VNX</td>\n",
       "      <td>Jan</td>\n",
       "      <td>2.0</td>\n",
       "      <td>1</td>\n",
       "      <td>HDE 11</td>\n",
       "      <td>Blocked_units</td>\n",
       "      <td>Demand change</td>\n",
       "      <td>customer fluctuation</td>\n",
       "      <td>13.0</td>\n",
       "      <td>AAM Powertrain Halifax (Global)</td>\n",
       "      <td>25333</td>\n",
       "      <td>21722113</td>\n",
       "      <td>13000.0</td>\n",
       "      <td>1.0</td>\n",
       "    </tr>\n",
       "    <tr>\n",
       "      <th>5</th>\n",
       "      <td>VNX</td>\n",
       "      <td>Jan</td>\n",
       "      <td>2.0</td>\n",
       "      <td>1</td>\n",
       "      <td>MDE 5</td>\n",
       "      <td>Blocked_units</td>\n",
       "      <td>Production change</td>\n",
       "      <td>production smoothing</td>\n",
       "      <td>1.0</td>\n",
       "      <td>ReflexAllen UK LDT (Global)</td>\n",
       "      <td>28803</td>\n",
       "      <td>21769858</td>\n",
       "      <td>1000.0</td>\n",
       "      <td>1.0</td>\n",
       "    </tr>\n",
       "  </tbody>\n",
       "</table>\n",
       "</div>"
      ],
      "text/plain": [
       "  Factory Month  Week Day UnitImpacted   LossCategory      MainRootCause  \\\n",
       "2     VNX   Jan   2.0   1       HDE 11  Blocked_units      Demand change   \n",
       "3     VNX   Jan   2.0   1       HDE 11  Blocked_units      Demand change   \n",
       "5     VNX   Jan   2.0   1        MDE 5  Blocked_units  Production change   \n",
       "\n",
       "  DetailsOfTheRootCause  Units                           SupplierName  \\\n",
       "2  customer fluctuation    7.0  Cummins Turbo Technologies ( Global )   \n",
       "3  customer fluctuation   13.0        AAM Powertrain Halifax (Global)   \n",
       "5  production smoothing    1.0            ReflexAllen UK LDT (Global)   \n",
       "\n",
       "  ParmaCode PartReference  Total Loss Cost  MonthNumber  \n",
       "2      5385      17467114           7000.0          1.0  \n",
       "3     25333      21722113          13000.0          1.0  \n",
       "5     28803      21769858           1000.0          1.0  "
      ]
     },
     "execution_count": 6,
     "metadata": {},
     "output_type": "execute_result"
    }
   ],
   "source": [
    "df.head(3)"
   ]
  },
  {
   "cell_type": "code",
   "execution_count": 7,
   "metadata": {},
   "outputs": [],
   "source": [
    "df = df.drop(columns=['MainRootCause', 'DetailsOfTheRootCause','SupplierName',\n",
    "       'ParmaCode', 'PartReference', 'Total Loss Cost'])"
   ]
  },
  {
   "cell_type": "code",
   "execution_count": 8,
   "metadata": {},
   "outputs": [],
   "source": [
    "target = 'Units'\n",
    "X = df.drop(columns=[target])\n",
    "y = df[target]"
   ]
  },
  {
   "cell_type": "code",
   "execution_count": 9,
   "metadata": {},
   "outputs": [],
   "source": [
    "categorical_features = [column for column in X.columns if X[column].dtype.name == 'object']\n",
    "\n",
    "# Encode the categorical features using One-hot-encoding\n",
    "# Hint: you need to specify parameter (of get_dummies) 'columns' using categorical_features\n",
    "# Implement me\n",
    "X = pd.get_dummies(data=X, columns=categorical_features)"
   ]
  },
  {
   "cell_type": "code",
   "execution_count": 10,
   "metadata": {},
   "outputs": [],
   "source": [
    "# Import the model we are using\n",
    "from sklearn.ensemble import RandomForestRegressor\n",
    "# Instantiate model with 1000 decision trees\n",
    "rf = RandomForestRegressor(n_estimators = 1000, random_state = 42)\n",
    "# Train the model on training data\n",
    "rf.fit(X, y);"
   ]
  },
  {
   "cell_type": "code",
   "execution_count": 11,
   "metadata": {},
   "outputs": [],
   "source": [
    "\n",
    "predictions_rf = rf.predict(X)"
   ]
  },
  {
   "cell_type": "code",
   "execution_count": 12,
   "metadata": {},
   "outputs": [],
   "source": [
    "\n",
    "new = pd.DataFrame(np.nan, index=[0],columns=['Week', 'MonthNumber', 'Factory_CUR', 'Factory_HAG', 'Factory_KOP',\n",
    "       'Factory_SDE', 'Factory_VNX', 'Month_Apr', 'Month_Feb', 'Month_Jan',\n",
    "       'Month_Jul', 'Month_Jun', 'Month_Mar', 'Month_May', 'Day_1', 'Day_2',\n",
    "       'Day_3', 'Day_4', 'Day_5', 'Day_6', 'Day_7', 'UnitImpacted_AMT',\n",
    "       'UnitImpacted_Axles', 'UnitImpacted_DUO', 'UnitImpacted_Duo',\n",
    "       'UnitImpacted_HDE 11', 'UnitImpacted_HDE 12', 'UnitImpacted_HDE 13',\n",
    "       'UnitImpacted_HDE 13V', 'UnitImpacted_HDE 16', 'UnitImpacted_HDE 9',\n",
    "       'UnitImpacted_HDE Penta', 'UnitImpacted_IPS', 'UnitImpacted_MDE 5',\n",
    "       'UnitImpacted_MDE 8', 'UnitImpacted_PENTA', 'UnitImpacted_Powertronic',\n",
    "       'UnitImpacted_SMT', 'UnitImpacted_T300', 'LossCategory_Blocked_units',\n",
    "       'LossCategory_Drumbeats_E', 'LossCategory_Drumbeats_T',\n",
    "       'LossCategory_Incomplete_units', 'LossCategory_Missing_at_customer',\n",
    "       'LossCategory_Units_lost'])"
   ]
  },
  {
   "cell_type": "code",
   "execution_count": 13,
   "metadata": {},
   "outputs": [],
   "source": [
    "CFactory = 'HAG'\n",
    "CMonth = 'Aug'\n",
    "CDay = 2\n",
    "CUnitImpacted = 'HDE 9'\n",
    "CLossCategory = 'Units_lost'\n",
    "CMonthNumber = 8\n",
    "CWeek = 34"
   ]
  },
  {
   "cell_type": "code",
   "execution_count": 14,
   "metadata": {},
   "outputs": [],
   "source": [
    "Fac_cols = [col for col in new.columns if CFactory in col]\n",
    "new[Fac_cols] = 1\n",
    "\n",
    "Mon_cols = [col for col in new.columns if CMonth in col]\n",
    "new[Mon_cols] = 1\n",
    "\n",
    "UnitImpacted_cols = [col for col in new.columns if CUnitImpacted in col]\n",
    "new[UnitImpacted_cols] = 1\n",
    "\n",
    "LossCategory_cols = [col for col in new.columns if CLossCategory in col]\n",
    "new[LossCategory_cols] = 1\n",
    "\n",
    "Day_cols = [col for col in new.columns if str(CDay) in col]\n",
    "new[Day_cols] = 1\n",
    "\n",
    "new['MonthNumber'] = CMonthNumber\n",
    "#new['Day'] = CDay\n",
    "new['Week'] = CWeek"
   ]
  },
  {
   "cell_type": "code",
   "execution_count": 15,
   "metadata": {},
   "outputs": [],
   "source": [
    "new  = new.replace(np.nan, 0)"
   ]
  },
  {
   "cell_type": "code",
   "execution_count": 16,
   "metadata": {},
   "outputs": [
    {
     "data": {
      "text/html": [
       "<div>\n",
       "<style scoped>\n",
       "    .dataframe tbody tr th:only-of-type {\n",
       "        vertical-align: middle;\n",
       "    }\n",
       "\n",
       "    .dataframe tbody tr th {\n",
       "        vertical-align: top;\n",
       "    }\n",
       "\n",
       "    .dataframe thead th {\n",
       "        text-align: right;\n",
       "    }\n",
       "</style>\n",
       "<table border=\"1\" class=\"dataframe\">\n",
       "  <thead>\n",
       "    <tr style=\"text-align: right;\">\n",
       "      <th></th>\n",
       "      <th>Week</th>\n",
       "      <th>MonthNumber</th>\n",
       "      <th>Factory_CUR</th>\n",
       "      <th>Factory_HAG</th>\n",
       "      <th>Factory_KOP</th>\n",
       "      <th>Factory_SDE</th>\n",
       "      <th>Factory_VNX</th>\n",
       "      <th>Month_Apr</th>\n",
       "      <th>Month_Feb</th>\n",
       "      <th>Month_Jan</th>\n",
       "      <th>...</th>\n",
       "      <th>UnitImpacted_PENTA</th>\n",
       "      <th>UnitImpacted_Powertronic</th>\n",
       "      <th>UnitImpacted_SMT</th>\n",
       "      <th>UnitImpacted_T300</th>\n",
       "      <th>LossCategory_Blocked_units</th>\n",
       "      <th>LossCategory_Drumbeats_E</th>\n",
       "      <th>LossCategory_Drumbeats_T</th>\n",
       "      <th>LossCategory_Incomplete_units</th>\n",
       "      <th>LossCategory_Missing_at_customer</th>\n",
       "      <th>LossCategory_Units_lost</th>\n",
       "    </tr>\n",
       "  </thead>\n",
       "  <tbody>\n",
       "    <tr>\n",
       "      <th>0</th>\n",
       "      <td>34</td>\n",
       "      <td>8</td>\n",
       "      <td>0.0</td>\n",
       "      <td>1.0</td>\n",
       "      <td>0.0</td>\n",
       "      <td>0.0</td>\n",
       "      <td>0.0</td>\n",
       "      <td>0.0</td>\n",
       "      <td>0.0</td>\n",
       "      <td>0.0</td>\n",
       "      <td>...</td>\n",
       "      <td>0.0</td>\n",
       "      <td>0.0</td>\n",
       "      <td>0.0</td>\n",
       "      <td>0.0</td>\n",
       "      <td>0.0</td>\n",
       "      <td>0.0</td>\n",
       "      <td>0.0</td>\n",
       "      <td>0.0</td>\n",
       "      <td>0.0</td>\n",
       "      <td>1.0</td>\n",
       "    </tr>\n",
       "  </tbody>\n",
       "</table>\n",
       "<p>1 rows × 45 columns</p>\n",
       "</div>"
      ],
      "text/plain": [
       "   Week  MonthNumber  Factory_CUR  Factory_HAG  Factory_KOP  Factory_SDE  \\\n",
       "0    34            8          0.0          1.0          0.0          0.0   \n",
       "\n",
       "   Factory_VNX  Month_Apr  Month_Feb  Month_Jan  ...  UnitImpacted_PENTA  \\\n",
       "0          0.0        0.0        0.0        0.0  ...                 0.0   \n",
       "\n",
       "   UnitImpacted_Powertronic  UnitImpacted_SMT  UnitImpacted_T300  \\\n",
       "0                       0.0               0.0                0.0   \n",
       "\n",
       "   LossCategory_Blocked_units  LossCategory_Drumbeats_E  \\\n",
       "0                         0.0                       0.0   \n",
       "\n",
       "   LossCategory_Drumbeats_T  LossCategory_Incomplete_units  \\\n",
       "0                       0.0                            0.0   \n",
       "\n",
       "   LossCategory_Missing_at_customer  LossCategory_Units_lost  \n",
       "0                               0.0                      1.0  \n",
       "\n",
       "[1 rows x 45 columns]"
      ]
     },
     "execution_count": 16,
     "metadata": {},
     "output_type": "execute_result"
    }
   ],
   "source": [
    "new.head()"
   ]
  },
  {
   "cell_type": "code",
   "execution_count": 17,
   "metadata": {},
   "outputs": [],
   "source": [
    "predictions_rf = rf.predict(new)"
   ]
  },
  {
   "cell_type": "code",
   "execution_count": 20,
   "metadata": {},
   "outputs": [
    {
     "data": {
      "text/plain": [
       "5.0"
      ]
     },
     "execution_count": 20,
     "metadata": {},
     "output_type": "execute_result"
    }
   ],
   "source": [
    "round(predictions_rf[0])"
   ]
  },
  {
   "cell_type": "markdown",
   "metadata": {},
   "source": [
    "### Q2 : Reasons"
   ]
  },
  {
   "cell_type": "code",
   "execution_count": 21,
   "metadata": {},
   "outputs": [],
   "source": [
    "q2df = raw_data.drop(columns=['DetailsOfTheRootCause', 'SupplierName',\n",
    "                              'ParmaCode', 'PartReference', 'Total Loss Cost'])\n",
    "q2df.loc[q2df.MainRootCause == 'Supplier delay',\n",
    "         'MainRootCause'] = 'SupplierDelay'\n",
    "q2df.loc[q2df.MainRootCause == 'Supplier delayed',\n",
    "         'MainRootCause'] = 'SupplierDelay'"
   ]
  },
  {
   "cell_type": "code",
   "execution_count": 22,
   "metadata": {},
   "outputs": [
    {
     "name": "stdout",
     "output_type": "stream",
     "text": [
      "(1202, 9)\n",
      "(1202, 9)\n"
     ]
    }
   ],
   "source": [
    "\n",
    "print(q2df.shape)\n",
    "q2df = q2df.dropna()\n",
    "print(q2df.shape)"
   ]
  },
  {
   "cell_type": "code",
   "execution_count": 23,
   "metadata": {},
   "outputs": [
    {
     "data": {
      "text/html": [
       "<div>\n",
       "<style scoped>\n",
       "    .dataframe tbody tr th:only-of-type {\n",
       "        vertical-align: middle;\n",
       "    }\n",
       "\n",
       "    .dataframe tbody tr th {\n",
       "        vertical-align: top;\n",
       "    }\n",
       "\n",
       "    .dataframe thead th {\n",
       "        text-align: right;\n",
       "    }\n",
       "</style>\n",
       "<table border=\"1\" class=\"dataframe\">\n",
       "  <thead>\n",
       "    <tr style=\"text-align: right;\">\n",
       "      <th></th>\n",
       "      <th>Factory</th>\n",
       "      <th>Month</th>\n",
       "      <th>Week</th>\n",
       "      <th>Day</th>\n",
       "      <th>UnitImpacted</th>\n",
       "      <th>LossCategory</th>\n",
       "      <th>MainRootCause</th>\n",
       "      <th>Units</th>\n",
       "      <th>MonthNumber</th>\n",
       "    </tr>\n",
       "  </thead>\n",
       "  <tbody>\n",
       "    <tr>\n",
       "      <th>2</th>\n",
       "      <td>VNX</td>\n",
       "      <td>Jan</td>\n",
       "      <td>2.0</td>\n",
       "      <td>1</td>\n",
       "      <td>HDE 11</td>\n",
       "      <td>Blocked_units</td>\n",
       "      <td>Demand change</td>\n",
       "      <td>7.0</td>\n",
       "      <td>1.0</td>\n",
       "    </tr>\n",
       "    <tr>\n",
       "      <th>3</th>\n",
       "      <td>VNX</td>\n",
       "      <td>Jan</td>\n",
       "      <td>2.0</td>\n",
       "      <td>1</td>\n",
       "      <td>HDE 11</td>\n",
       "      <td>Blocked_units</td>\n",
       "      <td>Demand change</td>\n",
       "      <td>13.0</td>\n",
       "      <td>1.0</td>\n",
       "    </tr>\n",
       "    <tr>\n",
       "      <th>5</th>\n",
       "      <td>VNX</td>\n",
       "      <td>Jan</td>\n",
       "      <td>2.0</td>\n",
       "      <td>1</td>\n",
       "      <td>MDE 5</td>\n",
       "      <td>Blocked_units</td>\n",
       "      <td>Production change</td>\n",
       "      <td>1.0</td>\n",
       "      <td>1.0</td>\n",
       "    </tr>\n",
       "    <tr>\n",
       "      <th>6</th>\n",
       "      <td>VNX</td>\n",
       "      <td>Jan</td>\n",
       "      <td>2.0</td>\n",
       "      <td>1</td>\n",
       "      <td>MDE 5</td>\n",
       "      <td>Blocked_units</td>\n",
       "      <td>Stock deviation</td>\n",
       "      <td>1.0</td>\n",
       "      <td>1.0</td>\n",
       "    </tr>\n",
       "    <tr>\n",
       "      <th>10</th>\n",
       "      <td>VNX</td>\n",
       "      <td>Jan</td>\n",
       "      <td>3.0</td>\n",
       "      <td>1</td>\n",
       "      <td>HDE 11</td>\n",
       "      <td>Blocked_units</td>\n",
       "      <td>Demand change</td>\n",
       "      <td>1.0</td>\n",
       "      <td>1.0</td>\n",
       "    </tr>\n",
       "  </tbody>\n",
       "</table>\n",
       "</div>"
      ],
      "text/plain": [
       "   Factory Month  Week Day UnitImpacted   LossCategory      MainRootCause  \\\n",
       "2      VNX   Jan   2.0   1       HDE 11  Blocked_units      Demand change   \n",
       "3      VNX   Jan   2.0   1       HDE 11  Blocked_units      Demand change   \n",
       "5      VNX   Jan   2.0   1        MDE 5  Blocked_units  Production change   \n",
       "6      VNX   Jan   2.0   1        MDE 5  Blocked_units    Stock deviation   \n",
       "10     VNX   Jan   3.0   1       HDE 11  Blocked_units      Demand change   \n",
       "\n",
       "    Units  MonthNumber  \n",
       "2     7.0          1.0  \n",
       "3    13.0          1.0  \n",
       "5     1.0          1.0  \n",
       "6     1.0          1.0  \n",
       "10    1.0          1.0  "
      ]
     },
     "execution_count": 23,
     "metadata": {},
     "output_type": "execute_result"
    }
   ],
   "source": [
    "q2df.head()"
   ]
  },
  {
   "cell_type": "code",
   "execution_count": 24,
   "metadata": {},
   "outputs": [],
   "source": [
    "MFactory = 'HAG'\n",
    "MMonth = 'Aug'\n",
    "MDay = 2\n",
    "MUnitImpacted = 'HDE 9'\n",
    "MLossCategory = 'Units_lost'\n",
    "MWeek = 35\n",
    "monthnumber = 8"
   ]
  },
  {
   "cell_type": "code",
   "execution_count": 25,
   "metadata": {},
   "outputs": [],
   "source": [
    "target_mainrootcause = 'MainRootCause'\n",
    "X_mainrootcause = q2df.drop(columns=[target_mainrootcause])\n",
    "y_mainrootcause = q2df[target_mainrootcause]\n",
    "\n",
    "from sklearn.preprocessing import LabelEncoder\n",
    "X_mainrootcause = pd.get_dummies(X_mainrootcause, sparse=True)\n",
    "# encode string class values as integers\n",
    "label_encoder = LabelEncoder()\n",
    "label_encoder = label_encoder.fit(y_mainrootcause)\n",
    "label_encoded_y = label_encoder.transform(y_mainrootcause)"
   ]
  },
  {
   "cell_type": "code",
   "execution_count": 26,
   "metadata": {},
   "outputs": [
    {
     "data": {
      "text/plain": [
       "Index(['Week', 'Units', 'MonthNumber', 'Factory_CUR', 'Factory_HAG',\n",
       "       'Factory_KOP', 'Factory_SDE', 'Factory_VNX', 'Month_Apr', 'Month_Feb',\n",
       "       'Month_Jan', 'Month_Jul', 'Month_Jun', 'Month_Mar', 'Month_May',\n",
       "       'Day_1', 'Day_2', 'Day_3', 'Day_4', 'Day_5', 'Day_6', 'Day_7',\n",
       "       'UnitImpacted_AMT', 'UnitImpacted_Axles', 'UnitImpacted_DUO',\n",
       "       'UnitImpacted_Duo', 'UnitImpacted_HDE 11', 'UnitImpacted_HDE 12',\n",
       "       'UnitImpacted_HDE 13', 'UnitImpacted_HDE 13V', 'UnitImpacted_HDE 16',\n",
       "       'UnitImpacted_HDE 9', 'UnitImpacted_HDE Penta', 'UnitImpacted_IPS',\n",
       "       'UnitImpacted_MDE 5', 'UnitImpacted_MDE 8', 'UnitImpacted_PENTA',\n",
       "       'UnitImpacted_Powertronic', 'UnitImpacted_SMT', 'UnitImpacted_T300',\n",
       "       'LossCategory_Blocked_units', 'LossCategory_Drumbeats_E',\n",
       "       'LossCategory_Drumbeats_T', 'LossCategory_Incomplete_units',\n",
       "       'LossCategory_Missing_at_customer', 'LossCategory_Units_lost'],\n",
       "      dtype='object')"
      ]
     },
     "execution_count": 26,
     "metadata": {},
     "output_type": "execute_result"
    }
   ],
   "source": [
    "X_mainrootcause.columns"
   ]
  },
  {
   "cell_type": "code",
   "execution_count": 27,
   "metadata": {},
   "outputs": [],
   "source": [
    "\n",
    "\n",
    "from sklearn.ensemble import RandomForestClassifier\n",
    "# Create a Gaussian Classifier\n",
    "clf = RandomForestClassifier(n_estimators=100)\n",
    "# Train the model using the training sets y_pred=clf.predict(X_test)\n",
    "clf.fit(X_mainrootcause, label_encoded_y)\n",
    "\n",
    "new = pd.DataFrame(np.nan, index=[0], columns=['Week', 'Units', 'MonthNumber', 'Factory_CUR', 'Factory_HAG',\n",
    "       'Factory_KOP', 'Factory_SDE', 'Factory_VNX', 'Month_Apr', 'Month_Feb',\n",
    "       'Month_Jan', 'Month_Jul', 'Month_Jun', 'Month_Mar', 'Month_May',\n",
    "       'Day_1', 'Day_2', 'Day_3', 'Day_4', 'Day_5', 'Day_6', 'Day_7',\n",
    "       'UnitImpacted_AMT', 'UnitImpacted_Axles', 'UnitImpacted_DUO',\n",
    "       'UnitImpacted_Duo', 'UnitImpacted_HDE 11', 'UnitImpacted_HDE 12',\n",
    "       'UnitImpacted_HDE 13', 'UnitImpacted_HDE 13V', 'UnitImpacted_HDE 16',\n",
    "       'UnitImpacted_HDE 9', 'UnitImpacted_HDE Penta', 'UnitImpacted_IPS',\n",
    "       'UnitImpacted_MDE 5', 'UnitImpacted_MDE 8', 'UnitImpacted_PENTA',\n",
    "       'UnitImpacted_Powertronic', 'UnitImpacted_SMT', 'UnitImpacted_T300',\n",
    "       'LossCategory_Blocked_units', 'LossCategory_Drumbeats_E',\n",
    "       'LossCategory_Drumbeats_T', 'LossCategory_Incomplete_units',\n",
    "       'LossCategory_Missing_at_customer', 'LossCategory_Units_lost'])\n",
    "\n",
    "Fac_cols = [col for col in new.columns if MFactory in col]\n",
    "new[Fac_cols] = 1\n",
    "Mon_cols = [col for col in new.columns if MMonth in col]\n",
    "new[Mon_cols] = 1\n",
    "UnitImpacted_cols = [col for col in new.columns if MUnitImpacted in col]\n",
    "new[UnitImpacted_cols] = 1\n",
    "LossCategory_cols = [col for col in new.columns if MLossCategory in col]\n",
    "new[LossCategory_cols] = 1\n",
    "Day_cols = [col for col in new.columns if str(MDay) in col]\n",
    "new[Day_cols] = 1\n",
    "\n",
    "\n",
    "#new['Day'] = MDay\n",
    "new['Week'] = MWeek\n",
    "new['MonthNumber'] = monthnumber\n",
    "new = new.replace(np.nan, 0)\n",
    "\n",
    "pred = (clf.predict(new))"
   ]
  },
  {
   "cell_type": "code",
   "execution_count": 28,
   "metadata": {},
   "outputs": [
    {
     "data": {
      "text/plain": [
       "array(['Internal cause'], dtype=object)"
      ]
     },
     "execution_count": 28,
     "metadata": {},
     "output_type": "execute_result"
    }
   ],
   "source": [
    "label_encoder.inverse_transform(pred)"
   ]
  },
  {
   "cell_type": "code",
   "execution_count": 29,
   "metadata": {},
   "outputs": [
    {
     "data": {
      "text/plain": [
       "'Internal cause'"
      ]
     },
     "execution_count": 29,
     "metadata": {},
     "output_type": "execute_result"
    }
   ],
   "source": [
    "label_encoder.inverse_transform(pred)[0]"
   ]
  },
  {
   "cell_type": "markdown",
   "metadata": {},
   "source": [
    "### Q3 : Lines that are impacted the most"
   ]
  },
  {
   "cell_type": "code",
   "execution_count": 211,
   "metadata": {},
   "outputs": [],
   "source": [
    "q3df = raw_data.drop(columns=['DetailsOfTheRootCause', 'SupplierName','MainRootCause',\n",
    "                              'ParmaCode', 'PartReference', 'Total Loss Cost'])\n",
    "# q3df.loc[q3df.MainRootCause == 'Supplier delay',\n",
    "#          'MainRootCause'] = 'SupplierDelay'\n",
    "# q3df.loc[q3df.MainRootCause == 'Supplier delayed',\n",
    "#          'MainRootCause'] = 'SupplierDelay'"
   ]
  },
  {
   "cell_type": "code",
   "execution_count": 212,
   "metadata": {},
   "outputs": [
    {
     "data": {
      "text/html": [
       "<div>\n",
       "<style scoped>\n",
       "    .dataframe tbody tr th:only-of-type {\n",
       "        vertical-align: middle;\n",
       "    }\n",
       "\n",
       "    .dataframe tbody tr th {\n",
       "        vertical-align: top;\n",
       "    }\n",
       "\n",
       "    .dataframe thead th {\n",
       "        text-align: right;\n",
       "    }\n",
       "</style>\n",
       "<table border=\"1\" class=\"dataframe\">\n",
       "  <thead>\n",
       "    <tr style=\"text-align: right;\">\n",
       "      <th></th>\n",
       "      <th>Factory</th>\n",
       "      <th>Month</th>\n",
       "      <th>Week</th>\n",
       "      <th>Day</th>\n",
       "      <th>UnitImpacted</th>\n",
       "      <th>LossCategory</th>\n",
       "      <th>Units</th>\n",
       "      <th>MonthNumber</th>\n",
       "    </tr>\n",
       "  </thead>\n",
       "  <tbody>\n",
       "    <tr>\n",
       "      <th>2</th>\n",
       "      <td>VNX</td>\n",
       "      <td>Jan</td>\n",
       "      <td>2.0</td>\n",
       "      <td>1</td>\n",
       "      <td>HDE 11</td>\n",
       "      <td>Blocked_units</td>\n",
       "      <td>7.0</td>\n",
       "      <td>1.0</td>\n",
       "    </tr>\n",
       "    <tr>\n",
       "      <th>3</th>\n",
       "      <td>VNX</td>\n",
       "      <td>Jan</td>\n",
       "      <td>2.0</td>\n",
       "      <td>1</td>\n",
       "      <td>HDE 11</td>\n",
       "      <td>Blocked_units</td>\n",
       "      <td>13.0</td>\n",
       "      <td>1.0</td>\n",
       "    </tr>\n",
       "    <tr>\n",
       "      <th>5</th>\n",
       "      <td>VNX</td>\n",
       "      <td>Jan</td>\n",
       "      <td>2.0</td>\n",
       "      <td>1</td>\n",
       "      <td>MDE 5</td>\n",
       "      <td>Blocked_units</td>\n",
       "      <td>1.0</td>\n",
       "      <td>1.0</td>\n",
       "    </tr>\n",
       "    <tr>\n",
       "      <th>6</th>\n",
       "      <td>VNX</td>\n",
       "      <td>Jan</td>\n",
       "      <td>2.0</td>\n",
       "      <td>1</td>\n",
       "      <td>MDE 5</td>\n",
       "      <td>Blocked_units</td>\n",
       "      <td>1.0</td>\n",
       "      <td>1.0</td>\n",
       "    </tr>\n",
       "    <tr>\n",
       "      <th>10</th>\n",
       "      <td>VNX</td>\n",
       "      <td>Jan</td>\n",
       "      <td>3.0</td>\n",
       "      <td>1</td>\n",
       "      <td>HDE 11</td>\n",
       "      <td>Blocked_units</td>\n",
       "      <td>1.0</td>\n",
       "      <td>1.0</td>\n",
       "    </tr>\n",
       "  </tbody>\n",
       "</table>\n",
       "</div>"
      ],
      "text/plain": [
       "   Factory Month  Week Day UnitImpacted   LossCategory  Units  MonthNumber\n",
       "2      VNX   Jan   2.0   1       HDE 11  Blocked_units    7.0          1.0\n",
       "3      VNX   Jan   2.0   1       HDE 11  Blocked_units   13.0          1.0\n",
       "5      VNX   Jan   2.0   1        MDE 5  Blocked_units    1.0          1.0\n",
       "6      VNX   Jan   2.0   1        MDE 5  Blocked_units    1.0          1.0\n",
       "10     VNX   Jan   3.0   1       HDE 11  Blocked_units    1.0          1.0"
      ]
     },
     "execution_count": 212,
     "metadata": {},
     "output_type": "execute_result"
    }
   ],
   "source": [
    "q3df.head()"
   ]
  },
  {
   "cell_type": "code",
   "execution_count": 213,
   "metadata": {},
   "outputs": [],
   "source": [
    "LFactory = 'HAG'\n",
    "LMonth = 'Aug'\n",
    "LDay = 2\n",
    "#LUnitImpacted = 'HDE 9'\n",
    "LLossCategory = 'Units_lost'\n",
    "LWeek = 35\n",
    "monthnumber = 8"
   ]
  },
  {
   "cell_type": "code",
   "execution_count": 217,
   "metadata": {},
   "outputs": [],
   "source": [
    "target_line = 'UnitImpacted'\n",
    "X_line = q3df.drop(columns=[target_line])\n",
    "y_line = q3df[target_line]\n",
    "\n",
    "from sklearn.preprocessing import LabelEncoder\n",
    "X_line = pd.get_dummies(X_line, sparse=True)\n",
    "# encode string class values as integers\n",
    "label_encoder_l = LabelEncoder()\n",
    "label_encoder_l = label_encoder_l.fit(y_line)\n",
    "label_encoded_l_y = label_encoder_l.transform(y_line)"
   ]
  },
  {
   "cell_type": "code",
   "execution_count": 218,
   "metadata": {},
   "outputs": [
    {
     "data": {
      "text/plain": [
       "Index(['Week', 'Units', 'MonthNumber', 'Factory_CUR', 'Factory_HAG',\n",
       "       'Factory_KOP', 'Factory_SDE', 'Factory_VNX', 'Month_Apr', 'Month_Feb',\n",
       "       'Month_Jan', 'Month_Jul', 'Month_Jun', 'Month_Mar', 'Month_May',\n",
       "       'Day_1', 'Day_2', 'Day_3', 'Day_4', 'Day_5', 'Day_6', 'Day_7',\n",
       "       'LossCategory_Blocked_units', 'LossCategory_Drumbeats_E',\n",
       "       'LossCategory_Drumbeats_T', 'LossCategory_Incomplete_units',\n",
       "       'LossCategory_Missing_at_customer', 'LossCategory_Units_lost'],\n",
       "      dtype='object')"
      ]
     },
     "execution_count": 218,
     "metadata": {},
     "output_type": "execute_result"
    }
   ],
   "source": [
    "X_line.columns"
   ]
  },
  {
   "cell_type": "code",
   "execution_count": 220,
   "metadata": {},
   "outputs": [],
   "source": [
    "\n",
    "\n",
    "from sklearn.ensemble import RandomForestClassifier\n",
    "# Create a Gaussian Classifier\n",
    "clfl = RandomForestClassifier(n_estimators=100)\n",
    "# Train the model using the training sets y_pred=clf.predict(X_test)\n",
    "clfl.fit(X_line, label_encoded_l_y)\n",
    "\n",
    "new = pd.DataFrame(np.nan, index=[0], columns=['Week', 'Units', 'MonthNumber', 'Factory_CUR', 'Factory_HAG',\n",
    "       'Factory_KOP', 'Factory_SDE', 'Factory_VNX', 'Month_Apr', 'Month_Feb',\n",
    "       'Month_Jan', 'Month_Jul', 'Month_Jun', 'Month_Mar', 'Month_May',\n",
    "       'Day_1', 'Day_2', 'Day_3', 'Day_4', 'Day_5', 'Day_6', 'Day_7',\n",
    "       'LossCategory_Blocked_units', 'LossCategory_Drumbeats_E',\n",
    "       'LossCategory_Drumbeats_T', 'LossCategory_Incomplete_units',\n",
    "       'LossCategory_Missing_at_customer', 'LossCategory_Units_lost'])\n",
    "\n",
    "Fac_cols = [col for col in new.columns if LFactory in col]\n",
    "new[Fac_cols] = 1\n",
    "Mon_cols = [col for col in new.columns if LMonth in col]\n",
    "new[Mon_cols] = 1\n",
    "LossCategory_cols = [col for col in new.columns if LLossCategory in col]\n",
    "new[LossCategory_cols] = 1\n",
    "Day_cols = [col for col in new.columns if str(MDay) in col]\n",
    "new[Day_cols] = 1\n",
    "\n",
    "\n",
    "#new['Day'] = MDay\n",
    "new['Week'] = MWeek\n",
    "new['MonthNumber'] = monthnumber\n",
    "new = new.replace(np.nan, 0)\n",
    "\n",
    "pred = (clfl.predict(new))"
   ]
  },
  {
   "cell_type": "code",
   "execution_count": 221,
   "metadata": {},
   "outputs": [
    {
     "data": {
      "text/plain": [
       "array(['AMT'], dtype=object)"
      ]
     },
     "execution_count": 221,
     "metadata": {},
     "output_type": "execute_result"
    }
   ],
   "source": [
    "label_encoder_l.inverse_transform(pred)"
   ]
  },
  {
   "cell_type": "code",
   "execution_count": null,
   "metadata": {},
   "outputs": [],
   "source": []
  }
 ],
 "metadata": {
  "kernelspec": {
   "display_name": "Python 3",
   "language": "python",
   "name": "python3"
  },
  "language_info": {
   "codemirror_mode": {
    "name": "ipython",
    "version": 3
   },
   "file_extension": ".py",
   "mimetype": "text/x-python",
   "name": "python",
   "nbconvert_exporter": "python",
   "pygments_lexer": "ipython3",
   "version": "3.7.3"
  }
 },
 "nbformat": 4,
 "nbformat_minor": 2
}
